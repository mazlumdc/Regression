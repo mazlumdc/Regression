{
 "cells": [
  {
   "cell_type": "code",
   "execution_count": 1,
   "id": "353c52dd",
   "metadata": {
    "_cell_guid": "b1076dfc-b9ad-4769-8c92-a6c4dae69d19",
    "_uuid": "8f2839f25d086af736a60e9eeb907d3b93b6e0e5",
    "execution": {
     "iopub.execute_input": "2023-01-30T08:24:10.694549Z",
     "iopub.status.busy": "2023-01-30T08:24:10.694084Z",
     "iopub.status.idle": "2023-01-30T08:24:12.162089Z",
     "shell.execute_reply": "2023-01-30T08:24:12.160531Z"
    },
    "papermill": {
     "duration": 1.486939,
     "end_time": "2023-01-30T08:24:12.164935",
     "exception": false,
     "start_time": "2023-01-30T08:24:10.677996",
     "status": "completed"
    },
    "tags": []
   },
   "outputs": [
    {
     "name": "stdout",
     "output_type": "stream",
     "text": [
      "/kaggle/input/advertisingcsv/Advertising.csv\n"
     ]
    }
   ],
   "source": [
    "\n",
    "\n",
    "import numpy as np # linear algebra\n",
    "import pandas as pd # data processing, CSV file I/O (e.g. pd.read_csv)\n",
    "import matplotlib.pyplot as plt\n",
    "from sklearn.linear_model import LinearRegression\n",
    "from sklearn.model_selection import train_test_split,cross_val_score\n",
    "import seaborn as sns\n",
    "from sklearn.metrics import mean_squared_error, mean_absolute_error\n",
    "import os\n",
    "for dirname, _, filenames in os.walk('/kaggle/input'):\n",
    "    for filename in filenames:\n",
    "        print(os.path.join(dirname, filename))"
   ]
  },
  {
   "cell_type": "markdown",
   "id": "46534a6a",
   "metadata": {
    "papermill": {
     "duration": 0.012519,
     "end_time": "2023-01-30T08:24:12.189869",
     "exception": false,
     "start_time": "2023-01-30T08:24:12.177350",
     "status": "completed"
    },
    "tags": []
   },
   "source": [
    "# What is Regression, What Does It Do?\n",
    "\n"
   ]
  },
  {
   "cell_type": "markdown",
   "id": "a5964b70",
   "metadata": {
    "papermill": {
     "duration": 0.011625,
     "end_time": "2023-01-30T08:24:12.215539",
     "exception": false,
     "start_time": "2023-01-30T08:24:12.203914",
     "status": "completed"
    },
    "tags": []
   },
   "source": [
    "# Regression\n",
    "\n",
    "In statistical modeling, regression analysis is a set of statistical processes for estimating the relationships between a dependent variable (often called the 'outcome' or 'response' variable, or a 'label' in machine learning parlance) and one or more independent variables (often called 'predictors', 'covariates', 'explanatory variables' or 'features'). The most common form of regression analysis is linear regression, in which one finds the line (or a more complex linear combination) that most closely fits the data according to a specific mathematical criterion.\n",
    "If you don't know, today I will tell you in detail about regression, one of the most important types of data analysis, and how regression analysis works."
   ]
  },
  {
   "cell_type": "markdown",
   "id": "d37a3afd",
   "metadata": {
    "papermill": {
     "duration": 0.011714,
     "end_time": "2023-01-30T08:24:12.239281",
     "exception": false,
     "start_time": "2023-01-30T08:24:12.227567",
     "status": "completed"
    },
    "tags": []
   },
   "source": [
    "# What Does Regression Do?"
   ]
  },
  {
   "cell_type": "markdown",
   "id": "bbd325ea",
   "metadata": {
    "papermill": {
     "duration": 0.011591,
     "end_time": "2023-01-30T08:24:12.262934",
     "exception": false,
     "start_time": "2023-01-30T08:24:12.251343",
     "status": "completed"
    },
    "tags": []
   },
   "source": [
    "We can say that regression analysis is used to estimate the value of the dependent variable depending on the independent variables."
   ]
  },
  {
   "cell_type": "markdown",
   "id": "6c6ab310",
   "metadata": {
    "papermill": {
     "duration": 0.011621,
     "end_time": "2023-01-30T08:24:12.286482",
     "exception": false,
     "start_time": "2023-01-30T08:24:12.274861",
     "status": "completed"
    },
    "tags": []
   },
   "source": [
    "### Linear Regression\n",
    "Linear regression is used to model the relationship between two variables and estimate the value of a response by using a line-of-best-fit.\n",
    "\n",
    "Regression analysis formula:\n",
    "\n",
    "Formula Y = MX + b\n",
    "\n",
    "Y is the dependent variable of the regression equation.\n",
    "M is the slope of the regression equation.\n",
    "X is the dependent variable of the regression equation.\n",
    "b is the constant of the equation."
   ]
  },
  {
   "cell_type": "markdown",
   "id": "639d7cc1",
   "metadata": {
    "papermill": {
     "duration": 0.011772,
     "end_time": "2023-01-30T08:24:12.310217",
     "exception": false,
     "start_time": "2023-01-30T08:24:12.298445",
     "status": "completed"
    },
    "tags": []
   },
   "source": [
    "If we want to examine it on an example. Advertising data sales (in thousands of units) for a particular product advertising budgets (in thousands of dollars) for TV, radio, and newspaper media\n"
   ]
  },
  {
   "cell_type": "code",
   "execution_count": 2,
   "id": "09a5dbeb",
   "metadata": {
    "execution": {
     "iopub.execute_input": "2023-01-30T08:24:12.336462Z",
     "iopub.status.busy": "2023-01-30T08:24:12.336029Z",
     "iopub.status.idle": "2023-01-30T08:24:12.370389Z",
     "shell.execute_reply": "2023-01-30T08:24:12.368944Z"
    },
    "papermill": {
     "duration": 0.050889,
     "end_time": "2023-01-30T08:24:12.373154",
     "exception": false,
     "start_time": "2023-01-30T08:24:12.322265",
     "status": "completed"
    },
    "tags": []
   },
   "outputs": [
    {
     "data": {
      "text/html": [
       "<div>\n",
       "<style scoped>\n",
       "    .dataframe tbody tr th:only-of-type {\n",
       "        vertical-align: middle;\n",
       "    }\n",
       "\n",
       "    .dataframe tbody tr th {\n",
       "        vertical-align: top;\n",
       "    }\n",
       "\n",
       "    .dataframe thead th {\n",
       "        text-align: right;\n",
       "    }\n",
       "</style>\n",
       "<table border=\"1\" class=\"dataframe\">\n",
       "  <thead>\n",
       "    <tr style=\"text-align: right;\">\n",
       "      <th></th>\n",
       "      <th>Unnamed: 0</th>\n",
       "      <th>TV</th>\n",
       "      <th>Radio</th>\n",
       "      <th>Newspaper</th>\n",
       "      <th>Sales</th>\n",
       "    </tr>\n",
       "  </thead>\n",
       "  <tbody>\n",
       "    <tr>\n",
       "      <th>0</th>\n",
       "      <td>1</td>\n",
       "      <td>230.1</td>\n",
       "      <td>37.8</td>\n",
       "      <td>69.2</td>\n",
       "      <td>22.1</td>\n",
       "    </tr>\n",
       "    <tr>\n",
       "      <th>1</th>\n",
       "      <td>2</td>\n",
       "      <td>44.5</td>\n",
       "      <td>39.3</td>\n",
       "      <td>45.1</td>\n",
       "      <td>10.4</td>\n",
       "    </tr>\n",
       "    <tr>\n",
       "      <th>2</th>\n",
       "      <td>3</td>\n",
       "      <td>17.2</td>\n",
       "      <td>45.9</td>\n",
       "      <td>69.3</td>\n",
       "      <td>9.3</td>\n",
       "    </tr>\n",
       "    <tr>\n",
       "      <th>3</th>\n",
       "      <td>4</td>\n",
       "      <td>151.5</td>\n",
       "      <td>41.3</td>\n",
       "      <td>58.5</td>\n",
       "      <td>18.5</td>\n",
       "    </tr>\n",
       "    <tr>\n",
       "      <th>4</th>\n",
       "      <td>5</td>\n",
       "      <td>180.8</td>\n",
       "      <td>10.8</td>\n",
       "      <td>58.4</td>\n",
       "      <td>12.9</td>\n",
       "    </tr>\n",
       "  </tbody>\n",
       "</table>\n",
       "</div>"
      ],
      "text/plain": [
       "   Unnamed: 0     TV  Radio  Newspaper  Sales\n",
       "0           1  230.1   37.8       69.2   22.1\n",
       "1           2   44.5   39.3       45.1   10.4\n",
       "2           3   17.2   45.9       69.3    9.3\n",
       "3           4  151.5   41.3       58.5   18.5\n",
       "4           5  180.8   10.8       58.4   12.9"
      ]
     },
     "execution_count": 2,
     "metadata": {},
     "output_type": "execute_result"
    }
   ],
   "source": [
    "df = pd.read_csv(\"/kaggle/input/advertisingcsv/Advertising.csv\" )\n",
    "\n",
    "df.head()"
   ]
  },
  {
   "cell_type": "code",
   "execution_count": 3,
   "id": "37f4f51f",
   "metadata": {
    "execution": {
     "iopub.execute_input": "2023-01-30T08:24:12.401010Z",
     "iopub.status.busy": "2023-01-30T08:24:12.400455Z",
     "iopub.status.idle": "2023-01-30T08:24:12.408415Z",
     "shell.execute_reply": "2023-01-30T08:24:12.407251Z"
    },
    "papermill": {
     "duration": 0.024865,
     "end_time": "2023-01-30T08:24:12.411345",
     "exception": false,
     "start_time": "2023-01-30T08:24:12.386480",
     "status": "completed"
    },
    "tags": []
   },
   "outputs": [
    {
     "data": {
      "text/plain": [
       "(200, 5)"
      ]
     },
     "execution_count": 3,
     "metadata": {},
     "output_type": "execute_result"
    }
   ],
   "source": [
    "df.shape"
   ]
  },
  {
   "cell_type": "markdown",
   "id": "ea8fe6de",
   "metadata": {
    "papermill": {
     "duration": 0.012612,
     "end_time": "2023-01-30T08:24:12.436987",
     "exception": false,
     "start_time": "2023-01-30T08:24:12.424375",
     "status": "completed"
    },
    "tags": []
   },
   "source": [
    "Let's try to estimate the advertising fees spent on TV ads based on product sales."
   ]
  },
  {
   "cell_type": "code",
   "execution_count": 4,
   "id": "e9cc0761",
   "metadata": {
    "execution": {
     "iopub.execute_input": "2023-01-30T08:24:12.465937Z",
     "iopub.status.busy": "2023-01-30T08:24:12.464634Z",
     "iopub.status.idle": "2023-01-30T08:24:12.498140Z",
     "shell.execute_reply": "2023-01-30T08:24:12.496783Z"
    },
    "papermill": {
     "duration": 0.049936,
     "end_time": "2023-01-30T08:24:12.500489",
     "exception": false,
     "start_time": "2023-01-30T08:24:12.450553",
     "status": "completed"
    },
    "tags": []
   },
   "outputs": [
    {
     "name": "stdout",
     "output_type": "stream",
     "text": [
      "Linear regression parameters at : b = 7.032593549127695, M = 0.04753664043301975\n"
     ]
    }
   ],
   "source": [
    "X = df[[\"TV\"]]\n",
    "y = df[[\"Sales\"]]\n",
    "\n",
    "# Model\n",
    "\n",
    "reg_model = LinearRegression().fit(X, y)\n",
    "\n",
    "# constant (b - bias)\n",
    "b = reg_model.intercept_[0]\n",
    "\n",
    "# coefficient of TV (M)\n",
    "M = reg_model.coef_[0][0]\n",
    "\n",
    "print(\"Linear regression parameters at : b = {0}, M = {1}\".format(b, M))"
   ]
  },
  {
   "cell_type": "markdown",
   "id": "94a9117a",
   "metadata": {
    "papermill": {
     "duration": 0.012552,
     "end_time": "2023-01-30T08:24:12.525879",
     "exception": false,
     "start_time": "2023-01-30T08:24:12.513327",
     "status": "completed"
    },
    "tags": []
   },
   "source": [
    "## Prediction\n",
    "\n",
    "The most common use of regression analysis is to predict future opportunities and threats.\n",
    "For this example, let's estimate what the sales would be if there were 150 units of spending on TV ads."
   ]
  },
  {
   "cell_type": "code",
   "execution_count": 5,
   "id": "984c9aec",
   "metadata": {
    "execution": {
     "iopub.execute_input": "2023-01-30T08:24:12.556565Z",
     "iopub.status.busy": "2023-01-30T08:24:12.555472Z",
     "iopub.status.idle": "2023-01-30T08:24:12.562260Z",
     "shell.execute_reply": "2023-01-30T08:24:12.561313Z"
    },
    "papermill": {
     "duration": 0.026115,
     "end_time": "2023-01-30T08:24:12.564791",
     "exception": false,
     "start_time": "2023-01-30T08:24:12.538676",
     "status": "completed"
    },
    "tags": []
   },
   "outputs": [
    {
     "data": {
      "text/plain": [
       "14.163089614080658"
      ]
     },
     "execution_count": 5,
     "metadata": {},
     "output_type": "execute_result"
    }
   ],
   "source": [
    "reg_model.intercept_[0] + reg_model.coef_[0][0] * 150"
   ]
  },
  {
   "cell_type": "code",
   "execution_count": 6,
   "id": "43b482a0",
   "metadata": {
    "execution": {
     "iopub.execute_input": "2023-01-30T08:24:12.593030Z",
     "iopub.status.busy": "2023-01-30T08:24:12.591773Z",
     "iopub.status.idle": "2023-01-30T08:24:12.604284Z",
     "shell.execute_reply": "2023-01-30T08:24:12.603108Z"
    },
    "papermill": {
     "duration": 0.029052,
     "end_time": "2023-01-30T08:24:12.606649",
     "exception": false,
     "start_time": "2023-01-30T08:24:12.577597",
     "status": "completed"
    },
    "tags": []
   },
   "outputs": [
    {
     "data": {
      "text/plain": [
       "array([[14.16308961]])"
      ]
     },
     "execution_count": 6,
     "metadata": {},
     "output_type": "execute_result"
    }
   ],
   "source": [
    "# Functional:\n",
    "new_data = [150]\n",
    "\n",
    "new_data = pd.DataFrame(new_data,columns=['TV'])\n",
    "\n",
    "\n",
    "reg_model.predict(new_data)"
   ]
  },
  {
   "cell_type": "markdown",
   "id": "1fa2a0ac",
   "metadata": {
    "papermill": {
     "duration": 0.012634,
     "end_time": "2023-01-30T08:24:12.632833",
     "exception": false,
     "start_time": "2023-01-30T08:24:12.620199",
     "status": "completed"
    },
    "tags": []
   },
   "source": [
    "## Visualization of the Model"
   ]
  },
  {
   "cell_type": "code",
   "execution_count": 7,
   "id": "e7869cc9",
   "metadata": {
    "execution": {
     "iopub.execute_input": "2023-01-30T08:24:12.660007Z",
     "iopub.status.busy": "2023-01-30T08:24:12.659620Z",
     "iopub.status.idle": "2023-01-30T08:24:12.978833Z",
     "shell.execute_reply": "2023-01-30T08:24:12.977517Z"
    },
    "papermill": {
     "duration": 0.336452,
     "end_time": "2023-01-30T08:24:12.982038",
     "exception": false,
     "start_time": "2023-01-30T08:24:12.645586",
     "status": "completed"
    },
    "tags": []
   },
   "outputs": [
    {
     "data": {
      "image/png": "[encoded data removed]",
      "text/plain": [
       "<Figure size 432x288 with 1 Axes>"
      ]
     },
     "metadata": {
      "needs_background": "light"
     },
     "output_type": "display_data"
    }
   ],
   "source": [
    "# Visualization of the Model\n",
    "g = sns.regplot(x=X, y=y, scatter_kws={'color': 'b', 's': 9},\n",
    "                ci=False, color=\"r\")\n",
    "g.set_title(f\"Model Equation: Sales = {round(reg_model.intercept_[0], 2)} + TV*{round(reg_model.coef_[0][0], 2)}\")\n",
    "g.set_ylabel(\"Sales\")\n",
    "g.set_xlabel(\"TV\")\n",
    "plt.xlim(-10, 310)\n",
    "plt.ylim(bottom=0)\n",
    "plt.show()"
   ]
  },
  {
   "cell_type": "markdown",
   "id": "4abdaa2c",
   "metadata": {
    "papermill": {
     "duration": 0.013637,
     "end_time": "2023-01-30T08:24:13.009615",
     "exception": false,
     "start_time": "2023-01-30T08:24:12.995978",
     "status": "completed"
    },
    "tags": []
   },
   "source": [
    "## Evaluating Forecast Success\n",
    "### MSE\n",
    "In statistics, the mean squared error (MSE) or mean squared deviation (MSD) of an estimator (of a procedure for estimating an unobserved quantity) measures the average of the squares of the errors—that is, the average squared difference between the estimated values and the actual value. MSE is a risk function, corresponding to the expected value of the squared error loss.\n",
    "The MSE is a measure of the quality of an estimator. As it is derived from the square of Euclidean distance, it is always a positive value that decreases as the error approaches zero.\n",
    "\n"
   ]
  },
  {
   "cell_type": "code",
   "execution_count": 8,
   "id": "59817140",
   "metadata": {
    "execution": {
     "iopub.execute_input": "2023-01-30T08:24:13.037889Z",
     "iopub.status.busy": "2023-01-30T08:24:13.037491Z",
     "iopub.status.idle": "2023-01-30T08:24:13.047824Z",
     "shell.execute_reply": "2023-01-30T08:24:13.046845Z"
    },
    "papermill": {
     "duration": 0.027268,
     "end_time": "2023-01-30T08:24:13.050204",
     "exception": false,
     "start_time": "2023-01-30T08:24:13.022936",
     "status": "completed"
    },
    "tags": []
   },
   "outputs": [
    {
     "data": {
      "text/plain": [
       "10.512652915656757"
      ]
     },
     "execution_count": 8,
     "metadata": {},
     "output_type": "execute_result"
    }
   ],
   "source": [
    "# MSE\n",
    "y_pred = reg_model.predict(X)\n",
    "mean_squared_error(y, y_pred)"
   ]
  },
  {
   "cell_type": "markdown",
   "id": "fe5931d0",
   "metadata": {
    "papermill": {
     "duration": 0.013232,
     "end_time": "2023-01-30T08:24:13.077643",
     "exception": false,
     "start_time": "2023-01-30T08:24:13.064411",
     "status": "completed"
    },
    "tags": []
   },
   "source": [
    "### RMSE\n",
    "The root-mean-square deviation (RMSD) or root-mean-square error (RMSE) is a frequently used measure of the differences between values (sample or population values) predicted by a model or an estimator and the values observed. The RMSD represents the square root of the second sample moment of the differences between predicted values and observed values or the quadratic mean of these differences.\n",
    "RMSD is always non-negative, and a value of 0 (almost never achieved in practice) would indicate a perfect fit to the data."
   ]
  },
  {
   "cell_type": "code",
   "execution_count": 9,
   "id": "06785ccf",
   "metadata": {
    "execution": {
     "iopub.execute_input": "2023-01-30T08:24:13.115543Z",
     "iopub.status.busy": "2023-01-30T08:24:13.115004Z",
     "iopub.status.idle": "2023-01-30T08:24:13.124936Z",
     "shell.execute_reply": "2023-01-30T08:24:13.124021Z"
    },
    "papermill": {
     "duration": 0.037057,
     "end_time": "2023-01-30T08:24:13.128425",
     "exception": false,
     "start_time": "2023-01-30T08:24:13.091368",
     "status": "completed"
    },
    "tags": []
   },
   "outputs": [
    {
     "data": {
      "text/plain": [
       "3.2423221486546887"
      ]
     },
     "execution_count": 9,
     "metadata": {},
     "output_type": "execute_result"
    }
   ],
   "source": [
    "# RMSE\n",
    "np.sqrt(mean_squared_error(y, y_pred))"
   ]
  },
  {
   "cell_type": "markdown",
   "id": "6e0f3e71",
   "metadata": {
    "papermill": {
     "duration": 0.014175,
     "end_time": "2023-01-30T08:24:13.163552",
     "exception": false,
     "start_time": "2023-01-30T08:24:13.149377",
     "status": "completed"
    },
    "tags": []
   },
   "source": [
    "### MAE\n",
    "mean absolute error (MAE) is the mean of the absolute differences between the actual values and the estimated values"
   ]
  },
  {
   "cell_type": "code",
   "execution_count": 10,
   "id": "4941fb2b",
   "metadata": {
    "execution": {
     "iopub.execute_input": "2023-01-30T08:24:13.200791Z",
     "iopub.status.busy": "2023-01-30T08:24:13.199703Z",
     "iopub.status.idle": "2023-01-30T08:24:13.209575Z",
     "shell.execute_reply": "2023-01-30T08:24:13.208398Z"
    },
    "papermill": {
     "duration": 0.030274,
     "end_time": "2023-01-30T08:24:13.212514",
     "exception": false,
     "start_time": "2023-01-30T08:24:13.182240",
     "status": "completed"
    },
    "tags": []
   },
   "outputs": [
    {
     "data": {
      "text/plain": [
       "2.549806038927486"
      ]
     },
     "execution_count": 10,
     "metadata": {},
     "output_type": "execute_result"
    }
   ],
   "source": [
    "# MAE\n",
    "mean_absolute_error(y, y_pred)"
   ]
  },
  {
   "cell_type": "markdown",
   "id": "e7466084",
   "metadata": {
    "papermill": {
     "duration": 0.014889,
     "end_time": "2023-01-30T08:24:13.242478",
     "exception": false,
     "start_time": "2023-01-30T08:24:13.227589",
     "status": "completed"
    },
    "tags": []
   },
   "source": [
    "### R-squared\n",
    "R-squared is a goodness-of-fit measure for linear regression models. This statistic indicates the percentage of the variance in the dependent variable that the independent variables explain collectively. R-squared measures the strength of the relationship between your model and the dependent variable on a convenient 0 – 100% scale."
   ]
  },
  {
   "cell_type": "code",
   "execution_count": 11,
   "id": "a1be521a",
   "metadata": {
    "execution": {
     "iopub.execute_input": "2023-01-30T08:24:13.276293Z",
     "iopub.status.busy": "2023-01-30T08:24:13.275406Z",
     "iopub.status.idle": "2023-01-30T08:24:13.285807Z",
     "shell.execute_reply": "2023-01-30T08:24:13.284852Z"
    },
    "papermill": {
     "duration": 0.031288,
     "end_time": "2023-01-30T08:24:13.288158",
     "exception": false,
     "start_time": "2023-01-30T08:24:13.256870",
     "status": "completed"
    },
    "tags": []
   },
   "outputs": [
    {
     "data": {
      "text/plain": [
       "0.611875050850071"
      ]
     },
     "execution_count": 11,
     "metadata": {},
     "output_type": "execute_result"
    }
   ],
   "source": [
    "# R-squared\n",
    "reg_model.score(X, y)"
   ]
  },
  {
   "cell_type": "markdown",
   "id": "8d149873",
   "metadata": {
    "papermill": {
     "duration": 0.013523,
     "end_time": "2023-01-30T08:24:13.315536",
     "exception": false,
     "start_time": "2023-01-30T08:24:13.302013",
     "status": "completed"
    },
    "tags": []
   },
   "source": [
    "### Multiple Linear Regression\n",
    "Multiple linear regression is used to estimate the relationship between two or more independent variables and one dependent variable."
   ]
  },
  {
   "cell_type": "markdown",
   "id": "1c31ebb3",
   "metadata": {
    "papermill": {
     "duration": 0.013878,
     "end_time": "2023-01-30T08:24:13.343186",
     "exception": false,
     "start_time": "2023-01-30T08:24:13.329308",
     "status": "completed"
    },
    "tags": []
   },
   "source": [
    "Let's create a multiple regression model with all the variables in the Advertising dataset."
   ]
  },
  {
   "cell_type": "code",
   "execution_count": 12,
   "id": "ddb6e00e",
   "metadata": {
    "execution": {
     "iopub.execute_input": "2023-01-30T08:24:13.373230Z",
     "iopub.status.busy": "2023-01-30T08:24:13.372435Z",
     "iopub.status.idle": "2023-01-30T08:24:13.381805Z",
     "shell.execute_reply": "2023-01-30T08:24:13.380667Z"
    },
    "papermill": {
     "duration": 0.02752,
     "end_time": "2023-01-30T08:24:13.384546",
     "exception": false,
     "start_time": "2023-01-30T08:24:13.357026",
     "status": "completed"
    },
    "tags": []
   },
   "outputs": [],
   "source": [
    "X = df[['TV','Radio','Newspaper']]\n",
    "y = df[[\"Sales\"]]"
   ]
  },
  {
   "cell_type": "markdown",
   "id": "e7a46837",
   "metadata": {
    "papermill": {
     "duration": 0.017925,
     "end_time": "2023-01-30T08:24:13.417904",
     "exception": false,
     "start_time": "2023-01-30T08:24:13.399979",
     "status": "completed"
    },
    "tags": []
   },
   "source": [
    "## Model\n"
   ]
  },
  {
   "cell_type": "code",
   "execution_count": 13,
   "id": "6198e5f4",
   "metadata": {
    "execution": {
     "iopub.execute_input": "2023-01-30T08:24:13.451286Z",
     "iopub.status.busy": "2023-01-30T08:24:13.450858Z",
     "iopub.status.idle": "2023-01-30T08:24:13.470676Z",
     "shell.execute_reply": "2023-01-30T08:24:13.469840Z"
    },
    "papermill": {
     "duration": 0.040471,
     "end_time": "2023-01-30T08:24:13.473051",
     "exception": false,
     "start_time": "2023-01-30T08:24:13.432580",
     "status": "completed"
    },
    "tags": []
   },
   "outputs": [
    {
     "data": {
      "text/plain": [
       "array([[0.0468431 , 0.17854434, 0.00258619]])"
      ]
     },
     "execution_count": 13,
     "metadata": {},
     "output_type": "execute_result"
    }
   ],
   "source": [
    "\n",
    "X_train, X_test, y_train, y_test = train_test_split(X,\n",
    "                                                    y,\n",
    "                                                    test_size=0.20, random_state=1)\n",
    "\n",
    "reg_model = LinearRegression()\n",
    "reg_model.fit(X_train, y_train)\n",
    "\n",
    "# constant (b - bias)\n",
    "reg_model.intercept_\n",
    "\n",
    "# coefficients (w - weights)\n",
    "reg_model.coef_\n"
   ]
  },
  {
   "cell_type": "markdown",
   "id": "8ff416fd",
   "metadata": {
    "papermill": {
     "duration": 0.014168,
     "end_time": "2023-01-30T08:24:13.504141",
     "exception": false,
     "start_time": "2023-01-30T08:24:13.489973",
     "status": "completed"
    },
    "tags": []
   },
   "source": [
    "### Prediction\n",
    "What is the expected value of the sale based on the following observation values?\n",
    "\n",
    "TV: 30\n",
    "radio: 10\n",
    "newspaper: 40"
   ]
  },
  {
   "cell_type": "code",
   "execution_count": 14,
   "id": "e11fe326",
   "metadata": {
    "execution": {
     "iopub.execute_input": "2023-01-30T08:24:13.535320Z",
     "iopub.status.busy": "2023-01-30T08:24:13.534802Z",
     "iopub.status.idle": "2023-01-30T08:24:13.547823Z",
     "shell.execute_reply": "2023-01-30T08:24:13.546749Z"
    },
    "papermill": {
     "duration": 0.033611,
     "end_time": "2023-01-30T08:24:13.552642",
     "exception": false,
     "start_time": "2023-01-30T08:24:13.519031",
     "status": "completed"
    },
    "tags": []
   },
   "outputs": [
    {
     "data": {
      "text/plain": [
       "array([[6.202131]])"
      ]
     },
     "execution_count": 14,
     "metadata": {},
     "output_type": "execute_result"
    }
   ],
   "source": [
    "### Prediction\n",
    "new_data = [[30], [10], [40]]\n",
    "\n",
    "new_data = pd.DataFrame(new_data).T\n",
    "new_data.columns =['TV', 'Radio', 'Newspaper']\n",
    "\n",
    "reg_model.predict(new_data)"
   ]
  },
  {
   "cell_type": "markdown",
   "id": "9d40a9f7",
   "metadata": {
    "papermill": {
     "duration": 0.020354,
     "end_time": "2023-01-30T08:24:13.597445",
     "exception": false,
     "start_time": "2023-01-30T08:24:13.577091",
     "status": "completed"
    },
    "tags": []
   },
   "source": [
    "## Evaluating Forecast Success\n"
   ]
  },
  {
   "cell_type": "code",
   "execution_count": 15,
   "id": "45a4e2d9",
   "metadata": {
    "execution": {
     "iopub.execute_input": "2023-01-30T08:24:13.650727Z",
     "iopub.status.busy": "2023-01-30T08:24:13.649484Z",
     "iopub.status.idle": "2023-01-30T08:24:13.670725Z",
     "shell.execute_reply": "2023-01-30T08:24:13.666843Z"
    },
    "papermill": {
     "duration": 0.050775,
     "end_time": "2023-01-30T08:24:13.673246",
     "exception": false,
     "start_time": "2023-01-30T08:24:13.622471",
     "status": "completed"
    },
    "tags": []
   },
   "outputs": [
    {
     "data": {
      "text/plain": [
       "1.736902590147092"
      ]
     },
     "execution_count": 15,
     "metadata": {},
     "output_type": "execute_result"
    }
   ],
   "source": [
    "# Train RMSE\n",
    "y_pred = reg_model.predict(X_train)\n",
    "np.sqrt(mean_squared_error(y_train, y_pred))"
   ]
  },
  {
   "cell_type": "code",
   "execution_count": 16,
   "id": "c821458f",
   "metadata": {
    "execution": {
     "iopub.execute_input": "2023-01-30T08:24:13.704509Z",
     "iopub.status.busy": "2023-01-30T08:24:13.703638Z",
     "iopub.status.idle": "2023-01-30T08:24:13.715179Z",
     "shell.execute_reply": "2023-01-30T08:24:13.714130Z"
    },
    "papermill": {
     "duration": 0.030035,
     "end_time": "2023-01-30T08:24:13.717470",
     "exception": false,
     "start_time": "2023-01-30T08:24:13.687435",
     "status": "completed"
    },
    "tags": []
   },
   "outputs": [
    {
     "data": {
      "text/plain": [
       "0.8959372632325174"
      ]
     },
     "execution_count": 16,
     "metadata": {},
     "output_type": "execute_result"
    }
   ],
   "source": [
    "# TRAIN Rsquared\n",
    "reg_model.score(X_train, y_train)"
   ]
  },
  {
   "cell_type": "code",
   "execution_count": 17,
   "id": "5027a309",
   "metadata": {
    "execution": {
     "iopub.execute_input": "2023-01-30T08:24:13.749930Z",
     "iopub.status.busy": "2023-01-30T08:24:13.749045Z",
     "iopub.status.idle": "2023-01-30T08:24:13.761155Z",
     "shell.execute_reply": "2023-01-30T08:24:13.760143Z"
    },
    "papermill": {
     "duration": 0.031604,
     "end_time": "2023-01-30T08:24:13.763554",
     "exception": false,
     "start_time": "2023-01-30T08:24:13.731950",
     "status": "completed"
    },
    "tags": []
   },
   "outputs": [
    {
     "data": {
      "text/plain": [
       "1.4113417558581587"
      ]
     },
     "execution_count": 17,
     "metadata": {},
     "output_type": "execute_result"
    }
   ],
   "source": [
    "# Test RMSE\n",
    "y_pred = reg_model.predict(X_test)\n",
    "np.sqrt(mean_squared_error(y_test, y_pred))"
   ]
  },
  {
   "cell_type": "code",
   "execution_count": 18,
   "id": "e4165240",
   "metadata": {
    "execution": {
     "iopub.execute_input": "2023-01-30T08:24:13.795708Z",
     "iopub.status.busy": "2023-01-30T08:24:13.794797Z",
     "iopub.status.idle": "2023-01-30T08:24:13.806173Z",
     "shell.execute_reply": "2023-01-30T08:24:13.805125Z"
    },
    "papermill": {
     "duration": 0.030113,
     "end_time": "2023-01-30T08:24:13.808660",
     "exception": false,
     "start_time": "2023-01-30T08:24:13.778547",
     "status": "completed"
    },
    "tags": []
   },
   "outputs": [
    {
     "data": {
      "text/plain": [
       "0.8927605914615384"
      ]
     },
     "execution_count": 18,
     "metadata": {},
     "output_type": "execute_result"
    }
   ],
   "source": [
    "# Test RKARE\n",
    "reg_model.score(X_test, y_test)"
   ]
  },
  {
   "cell_type": "markdown",
   "id": "efcef285",
   "metadata": {
    "papermill": {
     "duration": 0.014353,
     "end_time": "2023-01-30T08:24:13.838191",
     "exception": false,
     "start_time": "2023-01-30T08:24:13.823838",
     "status": "completed"
    },
    "tags": []
   },
   "source": [
    "## CV (Cross-validation)\n",
    "Learning the parameters of a prediction function and testing it on the same data is a methodological mistake: a model that would just repeat the labels of the samples that it has just seen would have a perfect score but would fail to predict anything useful on yet-unseen data. This situation is called overfitting. To avoid it, it is common practice when performing a (supervised) machine learning experiment to hold out part of the available data as a test set X_test, y_test. Note that the word “experiment” is not intended to denote academic use only, because even in commercial settings machine learning usually starts out experimentally. Here is a flowchart of typical cross validation workflow in model training. The best parameters can be determined by grid search techniques.\n",
    "\n"
   ]
  },
  {
   "cell_type": "code",
   "execution_count": 19,
   "id": "b83fc142",
   "metadata": {
    "execution": {
     "iopub.execute_input": "2023-01-30T08:24:13.869696Z",
     "iopub.status.busy": "2023-01-30T08:24:13.868806Z",
     "iopub.status.idle": "2023-01-30T08:24:13.940206Z",
     "shell.execute_reply": "2023-01-30T08:24:13.938937Z"
    },
    "papermill": {
     "duration": 0.090702,
     "end_time": "2023-01-30T08:24:13.943439",
     "exception": false,
     "start_time": "2023-01-30T08:24:13.852737",
     "status": "completed"
    },
    "tags": []
   },
   "outputs": [
    {
     "data": {
      "text/plain": [
       "1.6913531708051797"
      ]
     },
     "execution_count": 19,
     "metadata": {},
     "output_type": "execute_result"
    }
   ],
   "source": [
    "# 10-Fold CV RMSE\n",
    "np.mean(np.sqrt(-cross_val_score(reg_model, X, y, cv=10, scoring=\"neg_mean_squared_error\")))"
   ]
  },
  {
   "cell_type": "markdown",
   "id": "6c95d35e",
   "metadata": {
    "papermill": {
     "duration": 0.018715,
     "end_time": "2023-01-30T08:24:13.984971",
     "exception": false,
     "start_time": "2023-01-30T08:24:13.966256",
     "status": "completed"
    },
    "tags": []
   },
   "source": [
    "## What to Consider in Regression Analysis?\n",
    "### Outliers \n",
    "Outliers are defined as abnormal values that do not fit the normal distribution in a dataset and have the potential to significantly distort any regression model. Therefore, outliers must be handled carefully to gain accurate insights from the data. Usually, data collected from the real world consists of various observations of various characteristics, and many of the values may be misplaced. Whatever the reason for the outliers, the presence of outliers negatively affects the analysis result."
   ]
  },
  {
   "cell_type": "code",
   "execution_count": 20,
   "id": "6ae5af69",
   "metadata": {
    "execution": {
     "iopub.execute_input": "2023-01-30T08:24:14.016791Z",
     "iopub.status.busy": "2023-01-30T08:24:14.016418Z",
     "iopub.status.idle": "2023-01-30T08:24:14.028710Z",
     "shell.execute_reply": "2023-01-30T08:24:14.027501Z"
    },
    "papermill": {
     "duration": 0.03116,
     "end_time": "2023-01-30T08:24:14.031201",
     "exception": false,
     "start_time": "2023-01-30T08:24:14.000041",
     "status": "completed"
    },
    "tags": []
   },
   "outputs": [],
   "source": [
    "#Function that sets upper and lower limits for outliers.\n",
    "def outlier_thresholds(dataframe, col_name, q1=0.25, q3=0.75):\n",
    "    quartile1 = dataframe[col_name].quantile(q1)\n",
    "    quartile3 = dataframe[col_name].quantile(q3)\n",
    "    interquantile_range = quartile3 - quartile1\n",
    "    up_limit = quartile3 + 1.5 * interquantile_range\n",
    "    low_limit = quartile1 - 1.5 * interquantile_range\n",
    "    return low_limit, up_limit\n",
    "\n",
    "# Function that recompiles outliers\n",
    "def replace_with_thresholds(dataframe, variable):\n",
    "    low_limit, up_limit = outlier_thresholds(dataframe, variable)\n",
    "    dataframe.loc[(dataframe[variable] < low_limit), variable] = low_limit\n",
    "    dataframe.loc[(dataframe[variable] > up_limit), variable] = up_limit\n",
    "\n",
    "# Are there any outliers? func prepared to answer the question. It outputs true or folse.\n",
    "def check_outlier(dataframe, col_name):\n",
    "    low_limit, up_limit = outlier_thresholds(dataframe, col_name)\n",
    "    if dataframe[(dataframe[col_name] > up_limit) | (dataframe[col_name] < low_limit)].any(axis=None):\n",
    "        return True\n",
    "    else:\n",
    "        return False\n",
    "\n",
    "# To access indexes of outliers, index= true must be set\n",
    "def grab_outliers(dataframe, col_name, index=False):\n",
    "    low, up = outlier_thresholds(dataframe, col_name)\n",
    "\n",
    "    if dataframe[((dataframe[col_name] < low) | (dataframe[col_name] > up))].shape[0] > 10:\n",
    "        print(dataframe[((dataframe[col_name] < low) | (dataframe[col_name] > up))].head())\n",
    "    else:\n",
    "        print(dataframe[((dataframe[col_name] < low) | (dataframe[col_name] > up))])\n",
    "\n",
    "    if index:\n",
    "        outlier_index = dataframe[((dataframe[col_name] < low) | (dataframe[col_name] > up))].index\n",
    "        return outlier_index\n"
   ]
  },
  {
   "cell_type": "markdown",
   "id": "f745fe42",
   "metadata": {
    "papermill": {
     "duration": 0.014292,
     "end_time": "2023-01-30T08:24:14.060026",
     "exception": false,
     "start_time": "2023-01-30T08:24:14.045734",
     "status": "completed"
    },
    "tags": []
   },
   "source": [
    "Let's find outliers"
   ]
  },
  {
   "cell_type": "code",
   "execution_count": 21,
   "id": "d3886665",
   "metadata": {
    "execution": {
     "iopub.execute_input": "2023-01-30T08:24:14.094491Z",
     "iopub.status.busy": "2023-01-30T08:24:14.093920Z",
     "iopub.status.idle": "2023-01-30T08:24:14.112094Z",
     "shell.execute_reply": "2023-01-30T08:24:14.109615Z"
    },
    "papermill": {
     "duration": 0.038533,
     "end_time": "2023-01-30T08:24:14.115401",
     "exception": false,
     "start_time": "2023-01-30T08:24:14.076868",
     "status": "completed"
    },
    "tags": []
   },
   "outputs": [
    {
     "name": "stdout",
     "output_type": "stream",
     "text": [
      "     Unnamed: 0     TV  Radio  Newspaper  Sales\n",
      "16           17   67.8   36.6      114.0   12.5\n",
      "101         102  296.4   36.3      100.9   23.8\n"
     ]
    }
   ],
   "source": [
    "grab_outliers(df, 'Newspaper', index=False)\n"
   ]
  },
  {
   "cell_type": "markdown",
   "id": "6d9ffec8",
   "metadata": {
    "papermill": {
     "duration": 0.015681,
     "end_time": "2023-01-30T08:24:14.147246",
     "exception": false,
     "start_time": "2023-01-30T08:24:14.131565",
     "status": "completed"
    },
    "tags": []
   },
   "source": [
    "Let's suppress outliers."
   ]
  },
  {
   "cell_type": "code",
   "execution_count": 22,
   "id": "2bc15449",
   "metadata": {
    "execution": {
     "iopub.execute_input": "2023-01-30T08:24:14.180035Z",
     "iopub.status.busy": "2023-01-30T08:24:14.179611Z",
     "iopub.status.idle": "2023-01-30T08:24:14.188478Z",
     "shell.execute_reply": "2023-01-30T08:24:14.187366Z"
    },
    "papermill": {
     "duration": 0.028036,
     "end_time": "2023-01-30T08:24:14.190819",
     "exception": false,
     "start_time": "2023-01-30T08:24:14.162783",
     "status": "completed"
    },
    "tags": []
   },
   "outputs": [],
   "source": [
    "replace_with_thresholds(df, 'Newspaper')"
   ]
  },
  {
   "cell_type": "markdown",
   "id": "60a409a1",
   "metadata": {
    "papermill": {
     "duration": 0.014226,
     "end_time": "2023-01-30T08:24:14.219663",
     "exception": false,
     "start_time": "2023-01-30T08:24:14.205437",
     "status": "completed"
    },
    "tags": []
   },
   "source": [
    "Let's check outliers again"
   ]
  },
  {
   "cell_type": "code",
   "execution_count": 23,
   "id": "e2bc57ca",
   "metadata": {
    "execution": {
     "iopub.execute_input": "2023-01-30T08:24:14.250534Z",
     "iopub.status.busy": "2023-01-30T08:24:14.250141Z",
     "iopub.status.idle": "2023-01-30T08:24:14.261311Z",
     "shell.execute_reply": "2023-01-30T08:24:14.259876Z"
    },
    "papermill": {
     "duration": 0.029476,
     "end_time": "2023-01-30T08:24:14.263748",
     "exception": false,
     "start_time": "2023-01-30T08:24:14.234272",
     "status": "completed"
    },
    "tags": []
   },
   "outputs": [
    {
     "name": "stdout",
     "output_type": "stream",
     "text": [
      "Empty DataFrame\n",
      "Columns: [Unnamed: 0, TV, Radio, Newspaper, Sales]\n",
      "Index: []\n"
     ]
    }
   ],
   "source": [
    "grab_outliers(df, 'Newspaper', index=False)"
   ]
  },
  {
   "cell_type": "markdown",
   "id": "d211fe29",
   "metadata": {
    "papermill": {
     "duration": 0.014159,
     "end_time": "2023-01-30T08:24:14.292801",
     "exception": false,
     "start_time": "2023-01-30T08:24:14.278642",
     "status": "completed"
    },
    "tags": []
   },
   "source": [
    "### Multicollinearity\n",
    "Multicollinearity occurs when two or more independent variables are highly correlated in a regression model. This means that in a regression model one independent variable can be predicted from another independent variable."
   ]
  },
  {
   "cell_type": "code",
   "execution_count": 24,
   "id": "efac4512",
   "metadata": {
    "execution": {
     "iopub.execute_input": "2023-01-30T08:24:14.326814Z",
     "iopub.status.busy": "2023-01-30T08:24:14.325604Z",
     "iopub.status.idle": "2023-01-30T08:24:14.678830Z",
     "shell.execute_reply": "2023-01-30T08:24:14.677733Z"
    },
    "papermill": {
     "duration": 0.373732,
     "end_time": "2023-01-30T08:24:14.681261",
     "exception": false,
     "start_time": "2023-01-30T08:24:14.307529",
     "status": "completed"
    },
    "tags": []
   },
   "outputs": [
    {
     "data": {
      "image/png": "[encoded data removed]",
      "text/plain": [
       "<Figure size 1296x1296 with 2 Axes>"
      ]
     },
     "metadata": {
      "needs_background": "light"
     },
     "output_type": "display_data"
    }
   ],
   "source": [
    "f,ax = plt.subplots(figsize=(18, 18))\n",
    "sns.heatmap(df.corr(), annot=True, linewidths=.5,cmap='RdBu', fmt= '.1f',ax=ax, vmin=-1)\n",
    "plt.show()\n"
   ]
  },
  {
   "cell_type": "markdown",
   "id": "c32f2b8a",
   "metadata": {
    "papermill": {
     "duration": 0.014877,
     "end_time": "2023-01-30T08:24:14.711638",
     "exception": false,
     "start_time": "2023-01-30T08:24:14.696761",
     "status": "completed"
    },
    "tags": []
   },
   "source": [
    "There is no multicollinearity for this example."
   ]
  },
  {
   "cell_type": "markdown",
   "id": "524d46f4",
   "metadata": {
    "papermill": {
     "duration": 0.014662,
     "end_time": "2023-01-30T08:24:14.741228",
     "exception": false,
     "start_time": "2023-01-30T08:24:14.726566",
     "status": "completed"
    },
    "tags": []
   },
   "source": [
    "### Heteroskedasticity\n",
    "\n",
    "In statistics, heteroskedasticity (or heteroscedasticity) happens when the standard errors of a variable, monitored over a specific amount of time, are non-constant.\n",
    "When observing the graph of residuals, a fan or cone shape indicates the presence of varying variance. In statistics, varying variance is seen as a problem because regressions involving ordinary least squares (OLS) assume that residuals are drawn from a population with constant variance.\n",
    "Heteroskedasticity is a violation of the assumptions for linear regression modeling, and so it can impact the validity of regression"
   ]
  },
  {
   "cell_type": "code",
   "execution_count": 25,
   "id": "5591cf56",
   "metadata": {
    "execution": {
     "iopub.execute_input": "2023-01-30T08:24:14.774000Z",
     "iopub.status.busy": "2023-01-30T08:24:14.773566Z",
     "iopub.status.idle": "2023-01-30T08:24:15.033788Z",
     "shell.execute_reply": "2023-01-30T08:24:15.032493Z"
    },
    "papermill": {
     "duration": 0.279763,
     "end_time": "2023-01-30T08:24:15.036145",
     "exception": false,
     "start_time": "2023-01-30T08:24:14.756382",
     "status": "completed"
    },
    "tags": []
   },
   "outputs": [
    {
     "data": {
      "image/png": "[encoded data removed]",
      "text/plain": [
       "<Figure size 432x288 with 1 Axes>"
      ]
     },
     "metadata": {
      "needs_background": "light"
     },
     "output_type": "display_data"
    }
   ],
   "source": [
    "g = sns.regplot(x=X['TV'], y=y, scatter_kws={'color': 'b', 's': 9},\n",
    "                ci=False, color=\"r\")\n",
    "g.set_title(f\"Model Equation: Sales = {round(reg_model.intercept_[0], 2)} + TV*{round(reg_model.coef_[0][0], 2)}\")\n",
    "g.set_ylabel(\"Sales\")\n",
    "g.set_xlabel(\"TV\")\n",
    "plt.xlim(-10, 310)\n",
    "plt.ylim(bottom=0)\n",
    "plt.show()"
   ]
  },
  {
   "cell_type": "markdown",
   "id": "fb0357fa",
   "metadata": {
    "papermill": {
     "duration": 0.015448,
     "end_time": "2023-01-30T08:24:15.067245",
     "exception": false,
     "start_time": "2023-01-30T08:24:15.051797",
     "status": "completed"
    },
    "tags": []
   },
   "source": [
    "Heteroskedasticity for this example is seen in the figure."
   ]
  },
  {
   "cell_type": "markdown",
   "id": "78626c47",
   "metadata": {
    "papermill": {
     "duration": 0.015188,
     "end_time": "2023-01-30T08:24:15.097985",
     "exception": false,
     "start_time": "2023-01-30T08:24:15.082797",
     "status": "completed"
    },
    "tags": []
   },
   "source": [
    "### Underfit ve Overfit\n",
    "When we use unnecessary explanatory variables, it can cause overfitting. Overfitting means that our algorithm works well on the training set, but does not outperform on the test sets. It is also known as the high variance problem.\n",
    "\n",
    "Our algorithm works so badly that if it doesn't even fit a training set exactly, then it's said to be out of data. It is also known as the maladaptation problem."
   ]
  },
  {
   "cell_type": "markdown",
   "id": "465c81ec",
   "metadata": {
    "papermill": {
     "duration": 0.015222,
     "end_time": "2023-01-30T08:24:15.128720",
     "exception": false,
     "start_time": "2023-01-30T08:24:15.113498",
     "status": "completed"
    },
    "tags": []
   },
   "source": [
    "## Regression Types\n",
    "### Linear Regression\n",
    "There are two types of linear regression analysis: simple regression and multiple linear regression\n"
   ]
  },
  {
   "cell_type": "markdown",
   "id": "55a4b83b",
   "metadata": {
    "papermill": {
     "duration": 0.015279,
     "end_time": "2023-01-30T08:24:15.159709",
     "exception": false,
     "start_time": "2023-01-30T08:24:15.144430",
     "status": "completed"
    },
    "tags": []
   },
   "source": [
    "### Stepwise Linear Regression\n",
    "This type of regression analysis is helpful when you're working with multiple independent variables. Three methods are used in stepwise regression."
   ]
  },
  {
   "cell_type": "markdown",
   "id": "a3051347",
   "metadata": {
    "papermill": {
     "duration": 0.015492,
     "end_time": "2023-01-30T08:24:15.190964",
     "exception": false,
     "start_time": "2023-01-30T08:24:15.175472",
     "status": "completed"
    },
    "tags": []
   },
   "source": [
    "### Polynomial Regression\n",
    "It is a type of regression analysis that models the relationship of the dependent variable \"x\" and the independent variable \"y\" values nonlinearly. Although it fits a nonlinear model to the data, it is a special case of multiple linear regression."
   ]
  },
  {
   "cell_type": "markdown",
   "id": "1c68d900",
   "metadata": {
    "papermill": {
     "duration": 0.016324,
     "end_time": "2023-01-30T08:24:15.224126",
     "exception": false,
     "start_time": "2023-01-30T08:24:15.207802",
     "status": "completed"
    },
    "tags": []
   },
   "source": [
    "### Logistic Regression\n",
    "Logistic regression analysis to perform classification and assignment\n",
    "It is a helpful regression method. Normal distribution\n",
    "The assumption of continuity does not have a prerequisite.\n",
    "Expected response variable according to explanatory variables.\n",
    "It is a regression method whose values are obtained as probabilities."
   ]
  },
  {
   "cell_type": "markdown",
   "id": "643c5e7c",
   "metadata": {
    "papermill": {
     "duration": 0.0153,
     "end_time": "2023-01-30T08:24:15.255108",
     "exception": false,
     "start_time": "2023-01-30T08:24:15.239808",
     "status": "completed"
    },
    "tags": []
   },
   "source": [
    "### Ridge Regression\n",
    "Ridge regression is a method of estimating the coefficients of multiple-regression models in scenarios where the independent variables are highly correlated."
   ]
  },
  {
   "cell_type": "markdown",
   "id": "3a8bea12",
   "metadata": {
    "papermill": {
     "duration": 0.015688,
     "end_time": "2023-01-30T08:24:15.286489",
     "exception": false,
     "start_time": "2023-01-30T08:24:15.270801",
     "status": "completed"
    },
    "tags": []
   },
   "source": [
    "### Lasso Regression\n",
    "Lasso regression is a type of linear regression that uses shrinkage. Shrinkage is where data values are shrunk towards a central point, like the mean. The lasso procedure encourages simple, sparse models (i.e. models with fewer parameters). This particular type of regression is well-suited for models showing high levels of muticollinearity or when you want to automate certain parts of model selection, like variable selection/parameter elimination.\n",
    "\n",
    "The acronym “LASSO” stands for Least Absolute Shrinkage and Selection Operator."
   ]
  },
  {
   "cell_type": "markdown",
   "id": "689e2482",
   "metadata": {
    "papermill": {
     "duration": 0.015337,
     "end_time": "2023-01-30T08:24:15.318336",
     "exception": false,
     "start_time": "2023-01-30T08:24:15.302999",
     "status": "completed"
    },
    "tags": []
   },
   "source": [
    "### Quantile Regression\n",
    "Quantitative regression is an econometric technique used when the necessary conditions for using linear regression are not fully met. This is an extension of linear regression analysis, i.e. it can be used when outliers are present in the data since its predictions are strong against outliers compared to linear regression."
   ]
  },
  {
   "cell_type": "markdown",
   "id": "d7bbe36a",
   "metadata": {
    "papermill": {
     "duration": 0.015857,
     "end_time": "2023-01-30T08:24:15.350278",
     "exception": false,
     "start_time": "2023-01-30T08:24:15.334421",
     "status": "completed"
    },
    "tags": []
   },
   "source": [
    "### Elastic net regression\n",
    "Elastic net regression is preferred to ridge and lasso regression when one has to deal with heavily correlated independent variables."
   ]
  },
  {
   "cell_type": "markdown",
   "id": "3968ca54",
   "metadata": {
    "papermill": {
     "duration": 0.015376,
     "end_time": "2023-01-30T08:24:15.381805",
     "exception": false,
     "start_time": "2023-01-30T08:24:15.366429",
     "status": "completed"
    },
    "tags": []
   },
   "source": [
    "### Ordinal Regression\n",
    "Ordinal regression is used to pre-represent the sorted values. The technique is useful when the dependent variable is ordinal. It is a special case of logistic regression."
   ]
  },
  {
   "cell_type": "markdown",
   "id": "94654d8c",
   "metadata": {
    "papermill": {
     "duration": 0.015205,
     "end_time": "2023-01-30T08:24:15.412730",
     "exception": false,
     "start_time": "2023-01-30T08:24:15.397525",
     "status": "completed"
    },
    "tags": []
   },
   "source": [
    "## How to Choose the Right Regression Model for Regression Analysis?\n",
    "Regression analysis mathematically describes the relationship between a set of independent variables and a dependent variable. There are many regression models you can use. This choice often depends on the type of data you have for the dependent variable and the type of model that provides the best fit."
   ]
  },
  {
   "cell_type": "markdown",
   "id": "34e9bfd3",
   "metadata": {
    "papermill": {
     "duration": 0.01521,
     "end_time": "2023-01-30T08:24:15.443472",
     "exception": false,
     "start_time": "2023-01-30T08:24:15.428262",
     "status": "completed"
    },
    "tags": []
   },
   "source": [
    "## Differences Between Correlation and Regression\n",
    "Correlation and regression are often confused with each other because correlation can often lead to regression. However, there is an important difference between them.\n",
    "\n",
    "The difference between these two statistical measures is that correlation measures the degree of relationship between two variables (x and y), whereas regression measures how one variable affects the other.\n",
    "\n",
    "The regression determines how x causes y to change and how the results will change if x and y are changed. With correlation, x and y are variables that can be exchanged and get the same result.\n",
    "Correlation is a single statistic or data point while regression is the entire equation with all data points represented by a line.\n",
    "While correlation shows the relationship between two variables, regression allows us to see how one affects the other.\n",
    "Data represented by regression, when one changes, the other does not always change in the same direction, creating a cause and effect. With correlation, the variables move together."
   ]
  },
  {
   "cell_type": "markdown",
   "id": "8dc089b8",
   "metadata": {
    "papermill": {
     "duration": 0.015192,
     "end_time": "2023-01-30T08:24:15.474202",
     "exception": false,
     "start_time": "2023-01-30T08:24:15.459010",
     "status": "completed"
    },
    "tags": []
   },
   "source": [
    "### References\n",
    "miuul,https://www.miuul.com/\n",
    "Regression analysis, wikipedia, https://en.wikipedia.org/wiki/Regression_analysisi, 2023\n",
    "Bulutistan,Regresyon Nedir, Ne İşe Yarar? Regresyon Analizi Nasıl Yapılır?, https://bulutistan.com/blog/regresyon/, 2023\n",
    "Recep Saritekin,Yeni Baslayanlar icin Veri Bilimi Egitimi,Kaggle,https://www.kaggle.com/code/rahmetsaritekin/yeni-baslayanlar-icin-veri-bilimi-egitimi,2023\n",
    "Ufuk Çolak,Makine Öğrenmesi — Model Başarı Değerlendirme Ölçütleri#3,\n",
    "medium, https://ufukcolak.medium.com/makine-%C3%B6%C4%9Frenmesi-model-ba%C5%9Far%C4%B1-de%C4%9Ferlendirme-%C3%B6l%C3%A7%C3%BCtleri-3-26014630d7ce, 2013\n",
    "Rebecca Bevans, Multiple Linear Regression, Scribbr, https://www.scribbr.com/statistics/multiple-linear-regression/#:~:text=What%20is%20multiple%20linear%20regression,variables%20using%20a%20straight%20line, 2023\n",
    "Jim Frost, How To Interpret R-squared in Regression Analysis, https://statisticsbyjim.com/regression/interpret-r-squared-regression/\n",
    "Şevket Ay, Model Performansını Değerlendirmek — Metrikler, https://medium.com/deep-learning-turkiye/model-performans%C4%B1n%C4%B1-de%C4%9Ferlendirmek-metrikler-cb6568705b1, 2023\n",
    "EKOLAR.com, HETEROSCEDASTICITY, https://www.ekolar.com/degisen-varyans-heteroscedasticity/, 2023\n",
    "investopedia, Heteroscedasticity Definition, https://www.investopedia.com/terms/h/heteroskedasticity.asp, 2023\n",
    "Buse Köseoğlu, Model Performansını Değerlendirmek, https://medium.com/yaz%C4%B1l%C4%B1m-ve-bili%C5%9Fim-kul%C3%BCb%C3%BC/model-performans%C4%B1n%C4%B1-de%C4%9Ferlendirmek-regresyon-48b4afec8664, 2023"
   ]
  }
 ],
 "metadata": {
  "kernelspec": {
   "display_name": "Python 3",
   "language": "python",
   "name": "python3"
  },
  "language_info": {
   "codemirror_mode": {
    "name": "ipython",
    "version": 3
   },
   "file_extension": ".py",
   "mimetype": "text/x-python",
   "name": "python",
   "nbconvert_exporter": "python",
   "pygments_lexer": "ipython3",
   "version": "3.7.12"
  },
  "papermill": {
   "default_parameters": {},
   "duration": 14.514717,
   "end_time": "2023-01-30T08:24:16.311185",
   "environment_variables": {},
   "exception": null,
   "input_path": "__notebook__.ipynb",
   "output_path": "__notebook__.ipynb",
   "parameters": {},
   "start_time": "2023-01-30T08:24:01.796468",
   "version": "2.3.4"
  }
 },
 "nbformat": 4,
 "nbformat_minor": 5
}
